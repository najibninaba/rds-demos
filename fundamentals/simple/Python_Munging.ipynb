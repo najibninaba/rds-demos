{
 "cells": [
  {
   "cell_type": "markdown",
   "metadata": {},
   "source": [
    "# Munging Defined \n",
    "\n",
    "- Shape dataset so it feeds easily into visualisation tools and machine learning models\n",
    "- Involved similar set operations for most datasets \n",
    "- Cleaning: Strings changed to numbers, numbers/strings changed to dates, missing values dealt with, pruning columns \n",
    "- Transformation: Data grouped into meaningful subsets, summary statistics calculated, further filtering "
   ]
  },
  {
   "cell_type": "markdown",
   "metadata": {},
   "source": [
    "we will take you through all the usual munging steps. \n",
    "\n",
    "resale prices for HDBs from 2012 onwards \n",
    "\n",
    "Variables include: \n",
    "\n",
    "- Quarter and Year (need to split this variable and change format) \n",
    "- Town \n",
    "- Flat Type\n",
    "- Price "
   ]
  },
  {
   "cell_type": "code",
   "execution_count": 1,
   "metadata": {
    "collapsed": true
   },
   "outputs": [],
   "source": [
    "import pandas as pd \n",
    "import numpy as np"
   ]
  },
  {
   "cell_type": "markdown",
   "metadata": {},
   "source": [
    "# First look at the data "
   ]
  },
  {
   "cell_type": "code",
   "execution_count": 2,
   "metadata": {
    "collapsed": true
   },
   "outputs": [],
   "source": [
    "# load data \n",
    "resale = pd.read_csv(\"resale.csv\")"
   ]
  },
  {
   "cell_type": "code",
   "execution_count": 3,
   "metadata": {},
   "outputs": [
    {
     "data": {
      "text/html": [
       "<div>\n",
       "<style>\n",
       "    .dataframe thead tr:only-child th {\n",
       "        text-align: right;\n",
       "    }\n",
       "\n",
       "    .dataframe thead th {\n",
       "        text-align: left;\n",
       "    }\n",
       "\n",
       "    .dataframe tbody tr th {\n",
       "        vertical-align: top;\n",
       "    }\n",
       "</style>\n",
       "<table border=\"1\" class=\"dataframe\">\n",
       "  <thead>\n",
       "    <tr style=\"text-align: right;\">\n",
       "      <th></th>\n",
       "      <th>quarter</th>\n",
       "      <th>town</th>\n",
       "      <th>flat_type</th>\n",
       "      <th>price</th>\n",
       "    </tr>\n",
       "  </thead>\n",
       "  <tbody>\n",
       "    <tr>\n",
       "      <th>0</th>\n",
       "      <td>2007-Q2</td>\n",
       "      <td>Ang Mo Kio</td>\n",
       "      <td>1-room</td>\n",
       "      <td>na</td>\n",
       "    </tr>\n",
       "    <tr>\n",
       "      <th>1</th>\n",
       "      <td>2007-Q2</td>\n",
       "      <td>Ang Mo Kio</td>\n",
       "      <td>2-room</td>\n",
       "      <td>-</td>\n",
       "    </tr>\n",
       "    <tr>\n",
       "      <th>2</th>\n",
       "      <td>2007-Q2</td>\n",
       "      <td>Ang Mo Kio</td>\n",
       "      <td>3-room</td>\n",
       "      <td>172000</td>\n",
       "    </tr>\n",
       "    <tr>\n",
       "      <th>3</th>\n",
       "      <td>2007-Q2</td>\n",
       "      <td>Ang Mo Kio</td>\n",
       "      <td>4-room</td>\n",
       "      <td>260000</td>\n",
       "    </tr>\n",
       "    <tr>\n",
       "      <th>4</th>\n",
       "      <td>2007-Q2</td>\n",
       "      <td>Ang Mo Kio</td>\n",
       "      <td>5-room</td>\n",
       "      <td>372000</td>\n",
       "    </tr>\n",
       "  </tbody>\n",
       "</table>\n",
       "</div>"
      ],
      "text/plain": [
       "   quarter        town flat_type   price\n",
       "0  2007-Q2  Ang Mo Kio    1-room      na\n",
       "1  2007-Q2  Ang Mo Kio    2-room       -\n",
       "2  2007-Q2  Ang Mo Kio    3-room  172000\n",
       "3  2007-Q2  Ang Mo Kio    4-room  260000\n",
       "4  2007-Q2  Ang Mo Kio    5-room  372000"
      ]
     },
     "execution_count": 3,
     "metadata": {},
     "output_type": "execute_result"
    }
   ],
   "source": [
    "# take a first look \n",
    "resale.head()"
   ]
  },
  {
   "cell_type": "code",
   "execution_count": 4,
   "metadata": {},
   "outputs": [
    {
     "data": {
      "text/plain": [
       "(6084, 4)"
      ]
     },
     "execution_count": 4,
     "metadata": {},
     "output_type": "execute_result"
    }
   ],
   "source": [
    "# how many rows and columns?  \n",
    "resale.shape"
   ]
  },
  {
   "cell_type": "code",
   "execution_count": 5,
   "metadata": {},
   "outputs": [
    {
     "data": {
      "text/plain": [
       "array(['Ang Mo Kio', 'Bedok', 'Bishan', 'Bukit Batok', 'Bukit Merah',\n",
       "       'Bukit Panjang', 'Bukit Timah', 'Central', 'Choa Chu Kang',\n",
       "       'Clementi', 'Geylang', 'Hougang', 'Jurong East', 'Jurong West',\n",
       "       'Kallang/Whampoa', 'Marine Parade', 'Pasir Ris', 'Punggol',\n",
       "       'Queenstown', 'Sembawang', 'Sengkang', 'Serangoon', 'Tampines',\n",
       "       'Toa Payoh', 'Woodlands', 'Yishun'], dtype=object)"
      ]
     },
     "execution_count": 5,
     "metadata": {},
     "output_type": "execute_result"
    }
   ],
   "source": [
    "# look for unique values \n",
    "resale[\"town\"].unique()"
   ]
  },
  {
   "cell_type": "code",
   "execution_count": 6,
   "metadata": {},
   "outputs": [
    {
     "data": {
      "text/plain": [
       "array(['2007-Q2', '2007-Q3', '2007-Q4', '2008-Q1', '2008-Q2', '2008-Q3',\n",
       "       '2008-Q4', '2009-Q1', '2009-Q2', '2009-Q3', '2009-Q4', '2010-Q1',\n",
       "       '2010-Q2', '2010-Q3', '2010-Q4', '2011-Q1', '2011-Q2', '2011-Q3',\n",
       "       '2011-Q4', '2012-Q1', '2012-Q2', '2012-Q3', '2012-Q4', '2013-Q1',\n",
       "       '2013-Q2', '2013-Q3', '2013-Q4', '2014-Q1', '2014-Q2', '2014-Q3',\n",
       "       '2014-Q4', '2015-Q1', '2015-Q2', '2015-Q3', '2015-Q4', '2016-Q1',\n",
       "       '2016-Q2', '2016-Q3', '2016-Q4'], dtype=object)"
      ]
     },
     "execution_count": 6,
     "metadata": {},
     "output_type": "execute_result"
    }
   ],
   "source": [
    "resale[\"quarter\"].unique()"
   ]
  },
  {
   "cell_type": "code",
   "execution_count": 7,
   "metadata": {},
   "outputs": [
    {
     "data": {
      "text/plain": [
       "0         NaN\n",
       "1         NaN\n",
       "2    172000.0\n",
       "3    260000.0\n",
       "4    372000.0\n",
       "Name: price, dtype: float64"
      ]
     },
     "execution_count": 7,
     "metadata": {},
     "output_type": "execute_result"
    }
   ],
   "source": [
    "# look at data type\n",
    "\n",
    "resale[[\"price\"]] = resale[[\"price\"]].apply(pd.to_numeric, errors = \"coerce\")\n",
    "resale[\"price\"].head()"
   ]
  },
  {
   "cell_type": "code",
   "execution_count": 8,
   "metadata": {},
   "outputs": [
    {
     "data": {
      "text/plain": [
       "0         NaN\n",
       "1         NaN\n",
       "2    172000.0\n",
       "3    260000.0\n",
       "4    372000.0\n",
       "5         NaN\n",
       "6         NaN\n",
       "7         NaN\n",
       "8    172000.0\n",
       "9    224500.0\n",
       "Name: price, dtype: float64"
      ]
     },
     "execution_count": 8,
     "metadata": {},
     "output_type": "execute_result"
    }
   ],
   "source": [
    "# quick intro into indexing - slicing\n",
    "# create a small dataset with 10 rows \n",
    "head = resale.head(10)\n",
    "# access a column\n",
    "head['price']"
   ]
  },
  {
   "cell_type": "code",
   "execution_count": 9,
   "metadata": {},
   "outputs": [
    {
     "data": {
      "text/plain": [
       "quarter         2007-Q2\n",
       "town         Ang Mo Kio\n",
       "flat_type        2-room\n",
       "price               NaN\n",
       "Name: 1, dtype: object"
      ]
     },
     "execution_count": 9,
     "metadata": {},
     "output_type": "execute_result"
    }
   ],
   "source": [
    "# first row, keep all columns\n",
    "head.iloc[1,:]"
   ]
  },
  {
   "cell_type": "code",
   "execution_count": 10,
   "metadata": {},
   "outputs": [
    {
     "data": {
      "text/plain": [
       "0       1-room\n",
       "1       2-room\n",
       "2       3-room\n",
       "3       4-room\n",
       "4       5-room\n",
       "5    Executive\n",
       "6       1-room\n",
       "7       2-room\n",
       "8       3-room\n",
       "9       4-room\n",
       "Name: flat_type, dtype: object"
      ]
     },
     "execution_count": 10,
     "metadata": {},
     "output_type": "execute_result"
    }
   ],
   "source": [
    "# all rows, only second column\n",
    "head.iloc[:,2]"
   ]
  },
  {
   "cell_type": "code",
   "execution_count": 11,
   "metadata": {},
   "outputs": [
    {
     "data": {
      "text/html": [
       "<div>\n",
       "<style>\n",
       "    .dataframe thead tr:only-child th {\n",
       "        text-align: right;\n",
       "    }\n",
       "\n",
       "    .dataframe thead th {\n",
       "        text-align: left;\n",
       "    }\n",
       "\n",
       "    .dataframe tbody tr th {\n",
       "        vertical-align: top;\n",
       "    }\n",
       "</style>\n",
       "<table border=\"1\" class=\"dataframe\">\n",
       "  <thead>\n",
       "    <tr style=\"text-align: right;\">\n",
       "      <th></th>\n",
       "      <th>quarter</th>\n",
       "      <th>town</th>\n",
       "      <th>flat_type</th>\n",
       "      <th>price</th>\n",
       "    </tr>\n",
       "  </thead>\n",
       "  <tbody>\n",
       "    <tr>\n",
       "      <th>2</th>\n",
       "      <td>2007-Q2</td>\n",
       "      <td>Ang Mo Kio</td>\n",
       "      <td>3-room</td>\n",
       "      <td>172000.0</td>\n",
       "    </tr>\n",
       "    <tr>\n",
       "      <th>3</th>\n",
       "      <td>2007-Q2</td>\n",
       "      <td>Ang Mo Kio</td>\n",
       "      <td>4-room</td>\n",
       "      <td>260000.0</td>\n",
       "    </tr>\n",
       "    <tr>\n",
       "      <th>4</th>\n",
       "      <td>2007-Q2</td>\n",
       "      <td>Ang Mo Kio</td>\n",
       "      <td>5-room</td>\n",
       "      <td>372000.0</td>\n",
       "    </tr>\n",
       "    <tr>\n",
       "      <th>8</th>\n",
       "      <td>2007-Q2</td>\n",
       "      <td>Bedok</td>\n",
       "      <td>3-room</td>\n",
       "      <td>172000.0</td>\n",
       "    </tr>\n",
       "    <tr>\n",
       "      <th>9</th>\n",
       "      <td>2007-Q2</td>\n",
       "      <td>Bedok</td>\n",
       "      <td>4-room</td>\n",
       "      <td>224500.0</td>\n",
       "    </tr>\n",
       "  </tbody>\n",
       "</table>\n",
       "</div>"
      ],
      "text/plain": [
       "   quarter        town flat_type     price\n",
       "2  2007-Q2  Ang Mo Kio    3-room  172000.0\n",
       "3  2007-Q2  Ang Mo Kio    4-room  260000.0\n",
       "4  2007-Q2  Ang Mo Kio    5-room  372000.0\n",
       "8  2007-Q2       Bedok    3-room  172000.0\n",
       "9  2007-Q2       Bedok    4-room  224500.0"
      ]
     },
     "execution_count": 11,
     "metadata": {},
     "output_type": "execute_result"
    }
   ],
   "source": [
    "head.loc[head.price > 100000.0, :]"
   ]
  },
  {
   "cell_type": "code",
   "execution_count": 12,
   "metadata": {},
   "outputs": [
    {
     "data": {
      "text/html": [
       "<div>\n",
       "<style>\n",
       "    .dataframe thead tr:only-child th {\n",
       "        text-align: right;\n",
       "    }\n",
       "\n",
       "    .dataframe thead th {\n",
       "        text-align: left;\n",
       "    }\n",
       "\n",
       "    .dataframe tbody tr th {\n",
       "        vertical-align: top;\n",
       "    }\n",
       "</style>\n",
       "<table border=\"1\" class=\"dataframe\">\n",
       "  <thead>\n",
       "    <tr style=\"text-align: right;\">\n",
       "      <th></th>\n",
       "      <th>quarter</th>\n",
       "      <th>town</th>\n",
       "    </tr>\n",
       "  </thead>\n",
       "  <tbody>\n",
       "    <tr>\n",
       "      <th>3</th>\n",
       "      <td>2007-Q2</td>\n",
       "      <td>Ang Mo Kio</td>\n",
       "    </tr>\n",
       "    <tr>\n",
       "      <th>4</th>\n",
       "      <td>2007-Q2</td>\n",
       "      <td>Ang Mo Kio</td>\n",
       "    </tr>\n",
       "    <tr>\n",
       "      <th>9</th>\n",
       "      <td>2007-Q2</td>\n",
       "      <td>Bedok</td>\n",
       "    </tr>\n",
       "  </tbody>\n",
       "</table>\n",
       "</div>"
      ],
      "text/plain": [
       "   quarter        town\n",
       "3  2007-Q2  Ang Mo Kio\n",
       "4  2007-Q2  Ang Mo Kio\n",
       "9  2007-Q2       Bedok"
      ]
     },
     "execution_count": 12,
     "metadata": {},
     "output_type": "execute_result"
    }
   ],
   "source": [
    "head.loc[head.price > 200000.0, ['quarter','town']]"
   ]
  },
  {
   "cell_type": "markdown",
   "metadata": {},
   "source": [
    "# Cleaning: Dealing with missing values, outliers and time formats "
   ]
  },
  {
   "cell_type": "markdown",
   "metadata": {},
   "source": [
    "## Missing Values \n",
    "Real world data, or data \"in the wild\", is rarely standardised. Often, especially with surveys, fields are not filled in and hence we have to deal with missing values. Pandas provides several tools to handle missing data. "
   ]
  },
  {
   "cell_type": "code",
   "execution_count": 13,
   "metadata": {},
   "outputs": [
    {
     "data": {
      "text/plain": [
       "0     True\n",
       "1     True\n",
       "2    False\n",
       "3    False\n",
       "4    False\n",
       "Name: price, dtype: bool"
      ]
     },
     "execution_count": 13,
     "metadata": {},
     "output_type": "execute_result"
    }
   ],
   "source": [
    "# Generate a boolean mask showing missing values \n",
    "resale_small = resale[\"price\"].head()\n",
    "resale_small.isnull()"
   ]
  },
  {
   "cell_type": "code",
   "execution_count": 14,
   "metadata": {},
   "outputs": [
    {
     "data": {
      "text/plain": [
       "0    False\n",
       "1    False\n",
       "2     True\n",
       "3     True\n",
       "4     True\n",
       "Name: price, dtype: bool"
      ]
     },
     "execution_count": 14,
     "metadata": {},
     "output_type": "execute_result"
    }
   ],
   "source": [
    "# similarly, create a boolean mask, but this time showing non-missing values \n",
    "resale_small.notnull()"
   ]
  },
  {
   "cell_type": "code",
   "execution_count": 15,
   "metadata": {},
   "outputs": [
    {
     "data": {
      "text/plain": [
       "2    172000.0\n",
       "3    260000.0\n",
       "4    372000.0\n",
       "Name: price, dtype: float64"
      ]
     },
     "execution_count": 15,
     "metadata": {},
     "output_type": "execute_result"
    }
   ],
   "source": [
    "# notnull becomes usef when we use the boolean array as an index \n",
    "# here, all NaN values for price are filtered out \n",
    "resale_small[resale_small.notnull()]"
   ]
  },
  {
   "cell_type": "code",
   "execution_count": 16,
   "metadata": {},
   "outputs": [
    {
     "data": {
      "text/plain": [
       "2    172000.0\n",
       "3    260000.0\n",
       "4    372000.0\n",
       "Name: price, dtype: float64"
      ]
     },
     "execution_count": 16,
     "metadata": {},
     "output_type": "execute_result"
    }
   ],
   "source": [
    "# dropping null values \n",
    "resale_small.dropna()\n"
   ]
  },
  {
   "cell_type": "markdown",
   "metadata": {},
   "source": [
    "Especially when our dataset is small, and we want to preserve information as much as we can, we don't have to drop NaN values. Instead, we can replace them with zero, and retain the information in the other columns. Even better, we can fill NaN values with an average or some other value. "
   ]
  },
  {
   "cell_type": "code",
   "execution_count": 17,
   "metadata": {},
   "outputs": [
    {
     "data": {
      "text/plain": [
       "0         0.0\n",
       "1         0.0\n",
       "2    172000.0\n",
       "3    260000.0\n",
       "4    372000.0\n",
       "Name: price, dtype: float64"
      ]
     },
     "execution_count": 17,
     "metadata": {},
     "output_type": "execute_result"
    }
   ],
   "source": [
    "# filling with zero\n",
    "resale_small.fillna(0)"
   ]
  },
  {
   "cell_type": "code",
   "execution_count": 18,
   "metadata": {},
   "outputs": [
    {
     "data": {
      "text/plain": [
       "0    172000.0\n",
       "1    172000.0\n",
       "2    172000.0\n",
       "3    260000.0\n",
       "4    372000.0\n",
       "Name: price, dtype: float64"
      ]
     },
     "execution_count": 18,
     "metadata": {},
     "output_type": "execute_result"
    }
   ],
   "source": [
    "# propagate previous value backward \n",
    "resale_small.fillna(method='bfill')"
   ]
  },
  {
   "cell_type": "code",
   "execution_count": 19,
   "metadata": {},
   "outputs": [
    {
     "data": {
      "text/plain": [
       "0         NaN\n",
       "1         NaN\n",
       "2    172000.0\n",
       "3    260000.0\n",
       "4    372000.0\n",
       "Name: price, dtype: float64"
      ]
     },
     "execution_count": 19,
     "metadata": {},
     "output_type": "execute_result"
    }
   ],
   "source": [
    "# propagate previous value forward \n",
    "resale_small.fillna(method='ffill')"
   ]
  },
  {
   "cell_type": "markdown",
   "metadata": {},
   "source": [
    "## Transforming Data with a Mapping"
   ]
  },
  {
   "cell_type": "code",
   "execution_count": 20,
   "metadata": {},
   "outputs": [
    {
     "data": {
      "text/html": [
       "<div>\n",
       "<style>\n",
       "    .dataframe thead tr:only-child th {\n",
       "        text-align: right;\n",
       "    }\n",
       "\n",
       "    .dataframe thead th {\n",
       "        text-align: left;\n",
       "    }\n",
       "\n",
       "    .dataframe tbody tr th {\n",
       "        vertical-align: top;\n",
       "    }\n",
       "</style>\n",
       "<table border=\"1\" class=\"dataframe\">\n",
       "  <thead>\n",
       "    <tr style=\"text-align: right;\">\n",
       "      <th></th>\n",
       "      <th>quarter</th>\n",
       "      <th>town</th>\n",
       "      <th>flat_type</th>\n",
       "      <th>price</th>\n",
       "    </tr>\n",
       "  </thead>\n",
       "  <tbody>\n",
       "    <tr>\n",
       "      <th>0</th>\n",
       "      <td>2007-Q2</td>\n",
       "      <td>Ang Mo Kio</td>\n",
       "      <td>1-room</td>\n",
       "      <td>NaN</td>\n",
       "    </tr>\n",
       "    <tr>\n",
       "      <th>1</th>\n",
       "      <td>2007-Q2</td>\n",
       "      <td>Ang Mo Kio</td>\n",
       "      <td>2-room</td>\n",
       "      <td>NaN</td>\n",
       "    </tr>\n",
       "    <tr>\n",
       "      <th>2</th>\n",
       "      <td>2007-Q2</td>\n",
       "      <td>Ang Mo Kio</td>\n",
       "      <td>3-room</td>\n",
       "      <td>172000.0</td>\n",
       "    </tr>\n",
       "    <tr>\n",
       "      <th>3</th>\n",
       "      <td>2007-Q2</td>\n",
       "      <td>Ang Mo Kio</td>\n",
       "      <td>4-room</td>\n",
       "      <td>260000.0</td>\n",
       "    </tr>\n",
       "    <tr>\n",
       "      <th>4</th>\n",
       "      <td>2007-Q2</td>\n",
       "      <td>Ang Mo Kio</td>\n",
       "      <td>5-room</td>\n",
       "      <td>372000.0</td>\n",
       "    </tr>\n",
       "    <tr>\n",
       "      <th>5</th>\n",
       "      <td>2007-Q2</td>\n",
       "      <td>Ang Mo Kio</td>\n",
       "      <td>Executive</td>\n",
       "      <td>NaN</td>\n",
       "    </tr>\n",
       "    <tr>\n",
       "      <th>6</th>\n",
       "      <td>2007-Q2</td>\n",
       "      <td>Bedok</td>\n",
       "      <td>1-room</td>\n",
       "      <td>NaN</td>\n",
       "    </tr>\n",
       "    <tr>\n",
       "      <th>7</th>\n",
       "      <td>2007-Q2</td>\n",
       "      <td>Bedok</td>\n",
       "      <td>2-room</td>\n",
       "      <td>NaN</td>\n",
       "    </tr>\n",
       "    <tr>\n",
       "      <th>8</th>\n",
       "      <td>2007-Q2</td>\n",
       "      <td>Bedok</td>\n",
       "      <td>3-room</td>\n",
       "      <td>172000.0</td>\n",
       "    </tr>\n",
       "    <tr>\n",
       "      <th>9</th>\n",
       "      <td>2007-Q2</td>\n",
       "      <td>Bedok</td>\n",
       "      <td>4-room</td>\n",
       "      <td>224500.0</td>\n",
       "    </tr>\n",
       "    <tr>\n",
       "      <th>10</th>\n",
       "      <td>2007-Q2</td>\n",
       "      <td>Bedok</td>\n",
       "      <td>5-room</td>\n",
       "      <td>332000.0</td>\n",
       "    </tr>\n",
       "    <tr>\n",
       "      <th>11</th>\n",
       "      <td>2007-Q2</td>\n",
       "      <td>Bedok</td>\n",
       "      <td>Executive</td>\n",
       "      <td>420000.0</td>\n",
       "    </tr>\n",
       "    <tr>\n",
       "      <th>12</th>\n",
       "      <td>2007-Q2</td>\n",
       "      <td>Bishan</td>\n",
       "      <td>1-room</td>\n",
       "      <td>NaN</td>\n",
       "    </tr>\n",
       "    <tr>\n",
       "      <th>13</th>\n",
       "      <td>2007-Q2</td>\n",
       "      <td>Bishan</td>\n",
       "      <td>2-room</td>\n",
       "      <td>NaN</td>\n",
       "    </tr>\n",
       "    <tr>\n",
       "      <th>14</th>\n",
       "      <td>2007-Q2</td>\n",
       "      <td>Bishan</td>\n",
       "      <td>3-room</td>\n",
       "      <td>205000.0</td>\n",
       "    </tr>\n",
       "    <tr>\n",
       "      <th>15</th>\n",
       "      <td>2007-Q2</td>\n",
       "      <td>Bishan</td>\n",
       "      <td>4-room</td>\n",
       "      <td>311500.0</td>\n",
       "    </tr>\n",
       "    <tr>\n",
       "      <th>16</th>\n",
       "      <td>2007-Q2</td>\n",
       "      <td>Bishan</td>\n",
       "      <td>5-room</td>\n",
       "      <td>400000.0</td>\n",
       "    </tr>\n",
       "    <tr>\n",
       "      <th>17</th>\n",
       "      <td>2007-Q2</td>\n",
       "      <td>Bishan</td>\n",
       "      <td>Executive</td>\n",
       "      <td>475000.0</td>\n",
       "    </tr>\n",
       "    <tr>\n",
       "      <th>18</th>\n",
       "      <td>2007-Q2</td>\n",
       "      <td>Bukit Batok</td>\n",
       "      <td>1-room</td>\n",
       "      <td>NaN</td>\n",
       "    </tr>\n",
       "    <tr>\n",
       "      <th>19</th>\n",
       "      <td>2007-Q2</td>\n",
       "      <td>Bukit Batok</td>\n",
       "      <td>2-room</td>\n",
       "      <td>NaN</td>\n",
       "    </tr>\n",
       "    <tr>\n",
       "      <th>20</th>\n",
       "      <td>2007-Q2</td>\n",
       "      <td>Bukit Batok</td>\n",
       "      <td>3-room</td>\n",
       "      <td>160000.0</td>\n",
       "    </tr>\n",
       "    <tr>\n",
       "      <th>21</th>\n",
       "      <td>2007-Q2</td>\n",
       "      <td>Bukit Batok</td>\n",
       "      <td>4-room</td>\n",
       "      <td>234000.0</td>\n",
       "    </tr>\n",
       "    <tr>\n",
       "      <th>22</th>\n",
       "      <td>2007-Q2</td>\n",
       "      <td>Bukit Batok</td>\n",
       "      <td>5-room</td>\n",
       "      <td>358800.0</td>\n",
       "    </tr>\n",
       "  </tbody>\n",
       "</table>\n",
       "</div>"
      ],
      "text/plain": [
       "    quarter         town  flat_type     price\n",
       "0   2007-Q2   Ang Mo Kio     1-room       NaN\n",
       "1   2007-Q2   Ang Mo Kio     2-room       NaN\n",
       "2   2007-Q2   Ang Mo Kio     3-room  172000.0\n",
       "3   2007-Q2   Ang Mo Kio     4-room  260000.0\n",
       "4   2007-Q2   Ang Mo Kio     5-room  372000.0\n",
       "5   2007-Q2   Ang Mo Kio  Executive       NaN\n",
       "6   2007-Q2        Bedok     1-room       NaN\n",
       "7   2007-Q2        Bedok     2-room       NaN\n",
       "8   2007-Q2        Bedok     3-room  172000.0\n",
       "9   2007-Q2        Bedok     4-room  224500.0\n",
       "10  2007-Q2        Bedok     5-room  332000.0\n",
       "11  2007-Q2        Bedok  Executive  420000.0\n",
       "12  2007-Q2       Bishan     1-room       NaN\n",
       "13  2007-Q2       Bishan     2-room       NaN\n",
       "14  2007-Q2       Bishan     3-room  205000.0\n",
       "15  2007-Q2       Bishan     4-room  311500.0\n",
       "16  2007-Q2       Bishan     5-room  400000.0\n",
       "17  2007-Q2       Bishan  Executive  475000.0\n",
       "18  2007-Q2  Bukit Batok     1-room       NaN\n",
       "19  2007-Q2  Bukit Batok     2-room       NaN\n",
       "20  2007-Q2  Bukit Batok     3-room  160000.0\n",
       "21  2007-Q2  Bukit Batok     4-room  234000.0\n",
       "22  2007-Q2  Bukit Batok     5-room  358800.0"
      ]
     },
     "execution_count": 20,
     "metadata": {},
     "output_type": "execute_result"
    }
   ],
   "source": [
    "district = resale.head(23)\n",
    "district"
   ]
  },
  {
   "cell_type": "code",
   "execution_count": 21,
   "metadata": {},
   "outputs": [],
   "source": [
    "map = {\n",
    "    'Ang Mo Kio' : 'North East',\n",
    "    'Bedok' : 'East',\n",
    "    'Bukit Timah' : 'Central',\n",
    "    'Bukit Batok' : 'West',\n",
    "    'Bishan' : 'Central'\n",
    "}"
   ]
  },
  {
   "cell_type": "code",
   "execution_count": 22,
   "metadata": {},
   "outputs": [
    {
     "name": "stderr",
     "output_type": "stream",
     "text": [
      "C:\\Users\\najib\\conda\\envs\\rds-demo\\lib\\site-packages\\ipykernel_launcher.py:1: SettingWithCopyWarning: \n",
      "A value is trying to be set on a copy of a slice from a DataFrame.\n",
      "Try using .loc[row_indexer,col_indexer] = value instead\n",
      "\n",
      "See the caveats in the documentation: http://pandas.pydata.org/pandas-docs/stable/indexing.html#indexing-view-versus-copy\n",
      "  \"\"\"Entry point for launching an IPython kernel.\n"
     ]
    },
    {
     "data": {
      "text/html": [
       "<div>\n",
       "<style>\n",
       "    .dataframe thead tr:only-child th {\n",
       "        text-align: right;\n",
       "    }\n",
       "\n",
       "    .dataframe thead th {\n",
       "        text-align: left;\n",
       "    }\n",
       "\n",
       "    .dataframe tbody tr th {\n",
       "        vertical-align: top;\n",
       "    }\n",
       "</style>\n",
       "<table border=\"1\" class=\"dataframe\">\n",
       "  <thead>\n",
       "    <tr style=\"text-align: right;\">\n",
       "      <th></th>\n",
       "      <th>quarter</th>\n",
       "      <th>town</th>\n",
       "      <th>flat_type</th>\n",
       "      <th>price</th>\n",
       "      <th>area</th>\n",
       "    </tr>\n",
       "  </thead>\n",
       "  <tbody>\n",
       "    <tr>\n",
       "      <th>0</th>\n",
       "      <td>2007-Q2</td>\n",
       "      <td>Ang Mo Kio</td>\n",
       "      <td>1-room</td>\n",
       "      <td>NaN</td>\n",
       "      <td>North East</td>\n",
       "    </tr>\n",
       "    <tr>\n",
       "      <th>1</th>\n",
       "      <td>2007-Q2</td>\n",
       "      <td>Ang Mo Kio</td>\n",
       "      <td>2-room</td>\n",
       "      <td>NaN</td>\n",
       "      <td>North East</td>\n",
       "    </tr>\n",
       "    <tr>\n",
       "      <th>2</th>\n",
       "      <td>2007-Q2</td>\n",
       "      <td>Ang Mo Kio</td>\n",
       "      <td>3-room</td>\n",
       "      <td>172000.0</td>\n",
       "      <td>North East</td>\n",
       "    </tr>\n",
       "    <tr>\n",
       "      <th>3</th>\n",
       "      <td>2007-Q2</td>\n",
       "      <td>Ang Mo Kio</td>\n",
       "      <td>4-room</td>\n",
       "      <td>260000.0</td>\n",
       "      <td>North East</td>\n",
       "    </tr>\n",
       "    <tr>\n",
       "      <th>4</th>\n",
       "      <td>2007-Q2</td>\n",
       "      <td>Ang Mo Kio</td>\n",
       "      <td>5-room</td>\n",
       "      <td>372000.0</td>\n",
       "      <td>North East</td>\n",
       "    </tr>\n",
       "    <tr>\n",
       "      <th>5</th>\n",
       "      <td>2007-Q2</td>\n",
       "      <td>Ang Mo Kio</td>\n",
       "      <td>Executive</td>\n",
       "      <td>NaN</td>\n",
       "      <td>North East</td>\n",
       "    </tr>\n",
       "    <tr>\n",
       "      <th>6</th>\n",
       "      <td>2007-Q2</td>\n",
       "      <td>Bedok</td>\n",
       "      <td>1-room</td>\n",
       "      <td>NaN</td>\n",
       "      <td>East</td>\n",
       "    </tr>\n",
       "    <tr>\n",
       "      <th>7</th>\n",
       "      <td>2007-Q2</td>\n",
       "      <td>Bedok</td>\n",
       "      <td>2-room</td>\n",
       "      <td>NaN</td>\n",
       "      <td>East</td>\n",
       "    </tr>\n",
       "    <tr>\n",
       "      <th>8</th>\n",
       "      <td>2007-Q2</td>\n",
       "      <td>Bedok</td>\n",
       "      <td>3-room</td>\n",
       "      <td>172000.0</td>\n",
       "      <td>East</td>\n",
       "    </tr>\n",
       "    <tr>\n",
       "      <th>9</th>\n",
       "      <td>2007-Q2</td>\n",
       "      <td>Bedok</td>\n",
       "      <td>4-room</td>\n",
       "      <td>224500.0</td>\n",
       "      <td>East</td>\n",
       "    </tr>\n",
       "    <tr>\n",
       "      <th>10</th>\n",
       "      <td>2007-Q2</td>\n",
       "      <td>Bedok</td>\n",
       "      <td>5-room</td>\n",
       "      <td>332000.0</td>\n",
       "      <td>East</td>\n",
       "    </tr>\n",
       "    <tr>\n",
       "      <th>11</th>\n",
       "      <td>2007-Q2</td>\n",
       "      <td>Bedok</td>\n",
       "      <td>Executive</td>\n",
       "      <td>420000.0</td>\n",
       "      <td>East</td>\n",
       "    </tr>\n",
       "    <tr>\n",
       "      <th>12</th>\n",
       "      <td>2007-Q2</td>\n",
       "      <td>Bishan</td>\n",
       "      <td>1-room</td>\n",
       "      <td>NaN</td>\n",
       "      <td>Central</td>\n",
       "    </tr>\n",
       "    <tr>\n",
       "      <th>13</th>\n",
       "      <td>2007-Q2</td>\n",
       "      <td>Bishan</td>\n",
       "      <td>2-room</td>\n",
       "      <td>NaN</td>\n",
       "      <td>Central</td>\n",
       "    </tr>\n",
       "    <tr>\n",
       "      <th>14</th>\n",
       "      <td>2007-Q2</td>\n",
       "      <td>Bishan</td>\n",
       "      <td>3-room</td>\n",
       "      <td>205000.0</td>\n",
       "      <td>Central</td>\n",
       "    </tr>\n",
       "    <tr>\n",
       "      <th>15</th>\n",
       "      <td>2007-Q2</td>\n",
       "      <td>Bishan</td>\n",
       "      <td>4-room</td>\n",
       "      <td>311500.0</td>\n",
       "      <td>Central</td>\n",
       "    </tr>\n",
       "    <tr>\n",
       "      <th>16</th>\n",
       "      <td>2007-Q2</td>\n",
       "      <td>Bishan</td>\n",
       "      <td>5-room</td>\n",
       "      <td>400000.0</td>\n",
       "      <td>Central</td>\n",
       "    </tr>\n",
       "    <tr>\n",
       "      <th>17</th>\n",
       "      <td>2007-Q2</td>\n",
       "      <td>Bishan</td>\n",
       "      <td>Executive</td>\n",
       "      <td>475000.0</td>\n",
       "      <td>Central</td>\n",
       "    </tr>\n",
       "    <tr>\n",
       "      <th>18</th>\n",
       "      <td>2007-Q2</td>\n",
       "      <td>Bukit Batok</td>\n",
       "      <td>1-room</td>\n",
       "      <td>NaN</td>\n",
       "      <td>West</td>\n",
       "    </tr>\n",
       "    <tr>\n",
       "      <th>19</th>\n",
       "      <td>2007-Q2</td>\n",
       "      <td>Bukit Batok</td>\n",
       "      <td>2-room</td>\n",
       "      <td>NaN</td>\n",
       "      <td>West</td>\n",
       "    </tr>\n",
       "    <tr>\n",
       "      <th>20</th>\n",
       "      <td>2007-Q2</td>\n",
       "      <td>Bukit Batok</td>\n",
       "      <td>3-room</td>\n",
       "      <td>160000.0</td>\n",
       "      <td>West</td>\n",
       "    </tr>\n",
       "    <tr>\n",
       "      <th>21</th>\n",
       "      <td>2007-Q2</td>\n",
       "      <td>Bukit Batok</td>\n",
       "      <td>4-room</td>\n",
       "      <td>234000.0</td>\n",
       "      <td>West</td>\n",
       "    </tr>\n",
       "    <tr>\n",
       "      <th>22</th>\n",
       "      <td>2007-Q2</td>\n",
       "      <td>Bukit Batok</td>\n",
       "      <td>5-room</td>\n",
       "      <td>358800.0</td>\n",
       "      <td>West</td>\n",
       "    </tr>\n",
       "  </tbody>\n",
       "</table>\n",
       "</div>"
      ],
      "text/plain": [
       "    quarter         town  flat_type     price        area\n",
       "0   2007-Q2   Ang Mo Kio     1-room       NaN  North East\n",
       "1   2007-Q2   Ang Mo Kio     2-room       NaN  North East\n",
       "2   2007-Q2   Ang Mo Kio     3-room  172000.0  North East\n",
       "3   2007-Q2   Ang Mo Kio     4-room  260000.0  North East\n",
       "4   2007-Q2   Ang Mo Kio     5-room  372000.0  North East\n",
       "5   2007-Q2   Ang Mo Kio  Executive       NaN  North East\n",
       "6   2007-Q2        Bedok     1-room       NaN        East\n",
       "7   2007-Q2        Bedok     2-room       NaN        East\n",
       "8   2007-Q2        Bedok     3-room  172000.0        East\n",
       "9   2007-Q2        Bedok     4-room  224500.0        East\n",
       "10  2007-Q2        Bedok     5-room  332000.0        East\n",
       "11  2007-Q2        Bedok  Executive  420000.0        East\n",
       "12  2007-Q2       Bishan     1-room       NaN     Central\n",
       "13  2007-Q2       Bishan     2-room       NaN     Central\n",
       "14  2007-Q2       Bishan     3-room  205000.0     Central\n",
       "15  2007-Q2       Bishan     4-room  311500.0     Central\n",
       "16  2007-Q2       Bishan     5-room  400000.0     Central\n",
       "17  2007-Q2       Bishan  Executive  475000.0     Central\n",
       "18  2007-Q2  Bukit Batok     1-room       NaN        West\n",
       "19  2007-Q2  Bukit Batok     2-room       NaN        West\n",
       "20  2007-Q2  Bukit Batok     3-room  160000.0        West\n",
       "21  2007-Q2  Bukit Batok     4-room  234000.0        West\n",
       "22  2007-Q2  Bukit Batok     5-room  358800.0        West"
      ]
     },
     "execution_count": 22,
     "metadata": {},
     "output_type": "execute_result"
    }
   ],
   "source": [
    "district['area'] = district['town'].map(map) \n",
    "district"
   ]
  },
  {
   "cell_type": "markdown",
   "metadata": {},
   "source": [
    "## String Operations "
   ]
  },
  {
   "cell_type": "code",
   "execution_count": 23,
   "metadata": {},
   "outputs": [
    {
     "data": {
      "text/html": [
       "<div>\n",
       "<style>\n",
       "    .dataframe thead tr:only-child th {\n",
       "        text-align: right;\n",
       "    }\n",
       "\n",
       "    .dataframe thead th {\n",
       "        text-align: left;\n",
       "    }\n",
       "\n",
       "    .dataframe tbody tr th {\n",
       "        vertical-align: top;\n",
       "    }\n",
       "</style>\n",
       "<table border=\"1\" class=\"dataframe\">\n",
       "  <thead>\n",
       "    <tr style=\"text-align: right;\">\n",
       "      <th></th>\n",
       "      <th>quarter</th>\n",
       "      <th>town</th>\n",
       "      <th>flat_type</th>\n",
       "      <th>price</th>\n",
       "      <th>Year</th>\n",
       "      <th>Quarter</th>\n",
       "    </tr>\n",
       "  </thead>\n",
       "  <tbody>\n",
       "    <tr>\n",
       "      <th>0</th>\n",
       "      <td>2007-Q2</td>\n",
       "      <td>Ang Mo Kio</td>\n",
       "      <td>1-room</td>\n",
       "      <td>NaN</td>\n",
       "      <td>2007</td>\n",
       "      <td>Q2</td>\n",
       "    </tr>\n",
       "    <tr>\n",
       "      <th>1</th>\n",
       "      <td>2007-Q2</td>\n",
       "      <td>Ang Mo Kio</td>\n",
       "      <td>2-room</td>\n",
       "      <td>NaN</td>\n",
       "      <td>2007</td>\n",
       "      <td>Q2</td>\n",
       "    </tr>\n",
       "    <tr>\n",
       "      <th>2</th>\n",
       "      <td>2007-Q2</td>\n",
       "      <td>Ang Mo Kio</td>\n",
       "      <td>3-room</td>\n",
       "      <td>172000.0</td>\n",
       "      <td>2007</td>\n",
       "      <td>Q2</td>\n",
       "    </tr>\n",
       "    <tr>\n",
       "      <th>3</th>\n",
       "      <td>2007-Q2</td>\n",
       "      <td>Ang Mo Kio</td>\n",
       "      <td>4-room</td>\n",
       "      <td>260000.0</td>\n",
       "      <td>2007</td>\n",
       "      <td>Q2</td>\n",
       "    </tr>\n",
       "    <tr>\n",
       "      <th>4</th>\n",
       "      <td>2007-Q2</td>\n",
       "      <td>Ang Mo Kio</td>\n",
       "      <td>5-room</td>\n",
       "      <td>372000.0</td>\n",
       "      <td>2007</td>\n",
       "      <td>Q2</td>\n",
       "    </tr>\n",
       "  </tbody>\n",
       "</table>\n",
       "</div>"
      ],
      "text/plain": [
       "   quarter        town flat_type     price  Year Quarter\n",
       "0  2007-Q2  Ang Mo Kio    1-room       NaN  2007      Q2\n",
       "1  2007-Q2  Ang Mo Kio    2-room       NaN  2007      Q2\n",
       "2  2007-Q2  Ang Mo Kio    3-room  172000.0  2007      Q2\n",
       "3  2007-Q2  Ang Mo Kio    4-room  260000.0  2007      Q2\n",
       "4  2007-Q2  Ang Mo Kio    5-room  372000.0  2007      Q2"
      ]
     },
     "execution_count": 23,
     "metadata": {},
     "output_type": "execute_result"
    }
   ],
   "source": [
    "resale['Year'], resale['Quarter'] = resale['quarter'].str.split('-',1).str\n",
    "resale.head()"
   ]
  },
  {
   "cell_type": "code",
   "execution_count": 24,
   "metadata": {},
   "outputs": [],
   "source": [
    "# save our clean data \n",
    "resale.to_csv('clean_resale.csv')"
   ]
  },
  {
   "cell_type": "markdown",
   "metadata": {},
   "source": [
    "# Drop Columns"
   ]
  },
  {
   "cell_type": "code",
   "execution_count": 25,
   "metadata": {},
   "outputs": [
    {
     "data": {
      "text/html": [
       "<div>\n",
       "<style>\n",
       "    .dataframe thead tr:only-child th {\n",
       "        text-align: right;\n",
       "    }\n",
       "\n",
       "    .dataframe thead th {\n",
       "        text-align: left;\n",
       "    }\n",
       "\n",
       "    .dataframe tbody tr th {\n",
       "        vertical-align: top;\n",
       "    }\n",
       "</style>\n",
       "<table border=\"1\" class=\"dataframe\">\n",
       "  <thead>\n",
       "    <tr style=\"text-align: right;\">\n",
       "      <th></th>\n",
       "      <th>town</th>\n",
       "      <th>flat_type</th>\n",
       "      <th>price</th>\n",
       "      <th>Year</th>\n",
       "      <th>Quarter</th>\n",
       "    </tr>\n",
       "  </thead>\n",
       "  <tbody>\n",
       "    <tr>\n",
       "      <th>0</th>\n",
       "      <td>Ang Mo Kio</td>\n",
       "      <td>1-room</td>\n",
       "      <td>NaN</td>\n",
       "      <td>2007</td>\n",
       "      <td>Q2</td>\n",
       "    </tr>\n",
       "    <tr>\n",
       "      <th>1</th>\n",
       "      <td>Ang Mo Kio</td>\n",
       "      <td>2-room</td>\n",
       "      <td>NaN</td>\n",
       "      <td>2007</td>\n",
       "      <td>Q2</td>\n",
       "    </tr>\n",
       "    <tr>\n",
       "      <th>2</th>\n",
       "      <td>Ang Mo Kio</td>\n",
       "      <td>3-room</td>\n",
       "      <td>172000.0</td>\n",
       "      <td>2007</td>\n",
       "      <td>Q2</td>\n",
       "    </tr>\n",
       "    <tr>\n",
       "      <th>3</th>\n",
       "      <td>Ang Mo Kio</td>\n",
       "      <td>4-room</td>\n",
       "      <td>260000.0</td>\n",
       "      <td>2007</td>\n",
       "      <td>Q2</td>\n",
       "    </tr>\n",
       "    <tr>\n",
       "      <th>4</th>\n",
       "      <td>Ang Mo Kio</td>\n",
       "      <td>5-room</td>\n",
       "      <td>372000.0</td>\n",
       "      <td>2007</td>\n",
       "      <td>Q2</td>\n",
       "    </tr>\n",
       "  </tbody>\n",
       "</table>\n",
       "</div>"
      ],
      "text/plain": [
       "         town flat_type     price  Year Quarter\n",
       "0  Ang Mo Kio    1-room       NaN  2007      Q2\n",
       "1  Ang Mo Kio    2-room       NaN  2007      Q2\n",
       "2  Ang Mo Kio    3-room  172000.0  2007      Q2\n",
       "3  Ang Mo Kio    4-room  260000.0  2007      Q2\n",
       "4  Ang Mo Kio    5-room  372000.0  2007      Q2"
      ]
     },
     "execution_count": 25,
     "metadata": {},
     "output_type": "execute_result"
    }
   ],
   "source": [
    "# drop columns\n",
    "# inplace so that original data can be modified without creating a copy.\n",
    "resale.drop('quarter', axis = 1, inplace=True)\n",
    "resale.head()"
   ]
  },
  {
   "cell_type": "markdown",
   "metadata": {},
   "source": [
    "Other string operations include contains **count, endswith, startswith, findall, lower, upper, math, strip, etc.** "
   ]
  },
  {
   "cell_type": "markdown",
   "metadata": {},
   "source": [
    "## Dealing with time format  "
   ]
  },
  {
   "cell_type": "code",
   "execution_count": 26,
   "metadata": {},
   "outputs": [
    {
     "data": {
      "text/plain": [
       "dtype('O')"
      ]
     },
     "execution_count": 26,
     "metadata": {},
     "output_type": "execute_result"
    }
   ],
   "source": [
    "resale['Year'].dtype"
   ]
  },
  {
   "cell_type": "code",
   "execution_count": 27,
   "metadata": {},
   "outputs": [
    {
     "data": {
      "text/plain": [
       "dtype('<M8[ns]')"
      ]
     },
     "execution_count": 27,
     "metadata": {},
     "output_type": "execute_result"
    }
   ],
   "source": [
    "from datetime import datetime \n",
    "resale['Year'] = pd.to_datetime(resale['Year'])\n",
    "resale['Year'].dtype"
   ]
  },
  {
   "cell_type": "code",
   "execution_count": 28,
   "metadata": {},
   "outputs": [
    {
     "data": {
      "text/html": [
       "<div>\n",
       "<style>\n",
       "    .dataframe thead tr:only-child th {\n",
       "        text-align: right;\n",
       "    }\n",
       "\n",
       "    .dataframe thead th {\n",
       "        text-align: left;\n",
       "    }\n",
       "\n",
       "    .dataframe tbody tr th {\n",
       "        vertical-align: top;\n",
       "    }\n",
       "</style>\n",
       "<table border=\"1\" class=\"dataframe\">\n",
       "  <thead>\n",
       "    <tr style=\"text-align: right;\">\n",
       "      <th></th>\n",
       "      <th>town</th>\n",
       "      <th>flat_type</th>\n",
       "      <th>price</th>\n",
       "      <th>Year</th>\n",
       "      <th>Quarter</th>\n",
       "    </tr>\n",
       "  </thead>\n",
       "  <tbody>\n",
       "    <tr>\n",
       "      <th>0</th>\n",
       "      <td>Ang Mo Kio</td>\n",
       "      <td>1-room</td>\n",
       "      <td>NaN</td>\n",
       "      <td>2007</td>\n",
       "      <td>Q2</td>\n",
       "    </tr>\n",
       "    <tr>\n",
       "      <th>1</th>\n",
       "      <td>Ang Mo Kio</td>\n",
       "      <td>2-room</td>\n",
       "      <td>NaN</td>\n",
       "      <td>2007</td>\n",
       "      <td>Q2</td>\n",
       "    </tr>\n",
       "    <tr>\n",
       "      <th>2</th>\n",
       "      <td>Ang Mo Kio</td>\n",
       "      <td>3-room</td>\n",
       "      <td>172000.0</td>\n",
       "      <td>2007</td>\n",
       "      <td>Q2</td>\n",
       "    </tr>\n",
       "    <tr>\n",
       "      <th>3</th>\n",
       "      <td>Ang Mo Kio</td>\n",
       "      <td>4-room</td>\n",
       "      <td>260000.0</td>\n",
       "      <td>2007</td>\n",
       "      <td>Q2</td>\n",
       "    </tr>\n",
       "    <tr>\n",
       "      <th>4</th>\n",
       "      <td>Ang Mo Kio</td>\n",
       "      <td>5-room</td>\n",
       "      <td>372000.0</td>\n",
       "      <td>2007</td>\n",
       "      <td>Q2</td>\n",
       "    </tr>\n",
       "  </tbody>\n",
       "</table>\n",
       "</div>"
      ],
      "text/plain": [
       "         town flat_type     price  Year Quarter\n",
       "0  Ang Mo Kio    1-room       NaN  2007      Q2\n",
       "1  Ang Mo Kio    2-room       NaN  2007      Q2\n",
       "2  Ang Mo Kio    3-room  172000.0  2007      Q2\n",
       "3  Ang Mo Kio    4-room  260000.0  2007      Q2\n",
       "4  Ang Mo Kio    5-room  372000.0  2007      Q2"
      ]
     },
     "execution_count": 28,
     "metadata": {},
     "output_type": "execute_result"
    }
   ],
   "source": [
    "resale['Year'] = [x.strftime('%Y') for x in resale['Year']]\n",
    "resale.head()"
   ]
  },
  {
   "cell_type": "code",
   "execution_count": 29,
   "metadata": {},
   "outputs": [
    {
     "data": {
      "text/plain": [
       "dtype('O')"
      ]
     },
     "execution_count": 29,
     "metadata": {},
     "output_type": "execute_result"
    }
   ],
   "source": [
    "resale['Year'].dtype"
   ]
  },
  {
   "cell_type": "markdown",
   "metadata": {},
   "source": [
    "# Supplementing our dataset with more data: Merging and Joining Datasets "
   ]
  },
  {
   "cell_type": "markdown",
   "metadata": {},
   "source": [
    "Before we purchase a property, it's useful to take note of any amneties nearby, particularly schools. Our original dataset doesn't come with information about schools, but with Pandas, adding information to our dataset is easy with the merge( ) function. "
   ]
  },
  {
   "cell_type": "code",
   "execution_count": 30,
   "metadata": {},
   "outputs": [],
   "source": [
    "# create two data frames \n",
    "# price of 4-room for 2016 \n",
    "price = pd.DataFrame({'town': ['Yishun','Woodlands','Toa Payoh','Tampines','Serangoon'],\n",
    "                        'price' : [369000,350000,565000,430000,465000]})\n",
    "# number of secondary schools in area in 2016\n",
    "schools = pd.DataFrame({'town' : ['Woodlands','Yishun','Toa Payoh','Tampines','Serangoon'],\n",
    "                        'school_num' : [10,9,6,10,4]})"
   ]
  },
  {
   "cell_type": "code",
   "execution_count": 31,
   "metadata": {},
   "outputs": [
    {
     "data": {
      "text/html": [
       "<div>\n",
       "<style>\n",
       "    .dataframe thead tr:only-child th {\n",
       "        text-align: right;\n",
       "    }\n",
       "\n",
       "    .dataframe thead th {\n",
       "        text-align: left;\n",
       "    }\n",
       "\n",
       "    .dataframe tbody tr th {\n",
       "        vertical-align: top;\n",
       "    }\n",
       "</style>\n",
       "<table border=\"1\" class=\"dataframe\">\n",
       "  <thead>\n",
       "    <tr style=\"text-align: right;\">\n",
       "      <th></th>\n",
       "      <th>price</th>\n",
       "      <th>town</th>\n",
       "    </tr>\n",
       "  </thead>\n",
       "  <tbody>\n",
       "    <tr>\n",
       "      <th>0</th>\n",
       "      <td>369000</td>\n",
       "      <td>Yishun</td>\n",
       "    </tr>\n",
       "    <tr>\n",
       "      <th>1</th>\n",
       "      <td>350000</td>\n",
       "      <td>Woodlands</td>\n",
       "    </tr>\n",
       "    <tr>\n",
       "      <th>2</th>\n",
       "      <td>565000</td>\n",
       "      <td>Toa Payoh</td>\n",
       "    </tr>\n",
       "    <tr>\n",
       "      <th>3</th>\n",
       "      <td>430000</td>\n",
       "      <td>Tampines</td>\n",
       "    </tr>\n",
       "    <tr>\n",
       "      <th>4</th>\n",
       "      <td>465000</td>\n",
       "      <td>Serangoon</td>\n",
       "    </tr>\n",
       "  </tbody>\n",
       "</table>\n",
       "</div>"
      ],
      "text/plain": [
       "    price       town\n",
       "0  369000     Yishun\n",
       "1  350000  Woodlands\n",
       "2  565000  Toa Payoh\n",
       "3  430000   Tampines\n",
       "4  465000  Serangoon"
      ]
     },
     "execution_count": 31,
     "metadata": {},
     "output_type": "execute_result"
    }
   ],
   "source": [
    "price"
   ]
  },
  {
   "cell_type": "code",
   "execution_count": 32,
   "metadata": {},
   "outputs": [
    {
     "data": {
      "text/html": [
       "<div>\n",
       "<style>\n",
       "    .dataframe thead tr:only-child th {\n",
       "        text-align: right;\n",
       "    }\n",
       "\n",
       "    .dataframe thead th {\n",
       "        text-align: left;\n",
       "    }\n",
       "\n",
       "    .dataframe tbody tr th {\n",
       "        vertical-align: top;\n",
       "    }\n",
       "</style>\n",
       "<table border=\"1\" class=\"dataframe\">\n",
       "  <thead>\n",
       "    <tr style=\"text-align: right;\">\n",
       "      <th></th>\n",
       "      <th>school_num</th>\n",
       "      <th>town</th>\n",
       "    </tr>\n",
       "  </thead>\n",
       "  <tbody>\n",
       "    <tr>\n",
       "      <th>0</th>\n",
       "      <td>10</td>\n",
       "      <td>Woodlands</td>\n",
       "    </tr>\n",
       "    <tr>\n",
       "      <th>1</th>\n",
       "      <td>9</td>\n",
       "      <td>Yishun</td>\n",
       "    </tr>\n",
       "    <tr>\n",
       "      <th>2</th>\n",
       "      <td>6</td>\n",
       "      <td>Toa Payoh</td>\n",
       "    </tr>\n",
       "    <tr>\n",
       "      <th>3</th>\n",
       "      <td>10</td>\n",
       "      <td>Tampines</td>\n",
       "    </tr>\n",
       "    <tr>\n",
       "      <th>4</th>\n",
       "      <td>4</td>\n",
       "      <td>Serangoon</td>\n",
       "    </tr>\n",
       "  </tbody>\n",
       "</table>\n",
       "</div>"
      ],
      "text/plain": [
       "   school_num       town\n",
       "0          10  Woodlands\n",
       "1           9     Yishun\n",
       "2           6  Toa Payoh\n",
       "3          10   Tampines\n",
       "4           4  Serangoon"
      ]
     },
     "execution_count": 32,
     "metadata": {},
     "output_type": "execute_result"
    }
   ],
   "source": [
    "schools"
   ]
  },
  {
   "cell_type": "code",
   "execution_count": 33,
   "metadata": {},
   "outputs": [
    {
     "data": {
      "text/html": [
       "<div>\n",
       "<style>\n",
       "    .dataframe thead tr:only-child th {\n",
       "        text-align: right;\n",
       "    }\n",
       "\n",
       "    .dataframe thead th {\n",
       "        text-align: left;\n",
       "    }\n",
       "\n",
       "    .dataframe tbody tr th {\n",
       "        vertical-align: top;\n",
       "    }\n",
       "</style>\n",
       "<table border=\"1\" class=\"dataframe\">\n",
       "  <thead>\n",
       "    <tr style=\"text-align: right;\">\n",
       "      <th></th>\n",
       "      <th>price</th>\n",
       "      <th>town</th>\n",
       "      <th>school_num</th>\n",
       "    </tr>\n",
       "  </thead>\n",
       "  <tbody>\n",
       "    <tr>\n",
       "      <th>0</th>\n",
       "      <td>369000</td>\n",
       "      <td>Yishun</td>\n",
       "      <td>9</td>\n",
       "    </tr>\n",
       "    <tr>\n",
       "      <th>1</th>\n",
       "      <td>350000</td>\n",
       "      <td>Woodlands</td>\n",
       "      <td>10</td>\n",
       "    </tr>\n",
       "    <tr>\n",
       "      <th>2</th>\n",
       "      <td>565000</td>\n",
       "      <td>Toa Payoh</td>\n",
       "      <td>6</td>\n",
       "    </tr>\n",
       "    <tr>\n",
       "      <th>3</th>\n",
       "      <td>430000</td>\n",
       "      <td>Tampines</td>\n",
       "      <td>10</td>\n",
       "    </tr>\n",
       "    <tr>\n",
       "      <th>4</th>\n",
       "      <td>465000</td>\n",
       "      <td>Serangoon</td>\n",
       "      <td>4</td>\n",
       "    </tr>\n",
       "  </tbody>\n",
       "</table>\n",
       "</div>"
      ],
      "text/plain": [
       "    price       town  school_num\n",
       "0  369000     Yishun           9\n",
       "1  350000  Woodlands          10\n",
       "2  565000  Toa Payoh           6\n",
       "3  430000   Tampines          10\n",
       "4  465000  Serangoon           4"
      ]
     },
     "execution_count": 33,
     "metadata": {},
     "output_type": "execute_result"
    }
   ],
   "source": [
    "# combine both data frames into one \n",
    "merged = pd.merge(price, schools)\n",
    "merged "
   ]
  },
  {
   "cell_type": "markdown",
   "metadata": {},
   "source": [
    "Note that the pd.merge( ) function sees that each DataFrame has an 'employee' column and hence joins using this column as a key. Hence we have painlessly combines the information from the two inputs. \n",
    "\n",
    "For the SQL folks, pd.merge( ) allows more complex joins such as many-to-many joins, left joins, inner joins etc. See the documentation for more details, or Wes McKinney's Python for Data Analysis is a great resource. "
   ]
  },
  {
   "cell_type": "markdown",
   "metadata": {},
   "source": [
    "A quick alternative to the pd.merge( ) function is the pd.concat( ) function. This function allows us to specify whether to join the DataFrame by column or rows. "
   ]
  },
  {
   "cell_type": "code",
   "execution_count": 34,
   "metadata": {},
   "outputs": [
    {
     "data": {
      "text/html": [
       "<div>\n",
       "<style>\n",
       "    .dataframe thead tr:only-child th {\n",
       "        text-align: right;\n",
       "    }\n",
       "\n",
       "    .dataframe thead th {\n",
       "        text-align: left;\n",
       "    }\n",
       "\n",
       "    .dataframe tbody tr th {\n",
       "        vertical-align: top;\n",
       "    }\n",
       "</style>\n",
       "<table border=\"1\" class=\"dataframe\">\n",
       "  <thead>\n",
       "    <tr style=\"text-align: right;\">\n",
       "      <th></th>\n",
       "      <th>price</th>\n",
       "      <th>town</th>\n",
       "      <th>school_num</th>\n",
       "      <th>town</th>\n",
       "    </tr>\n",
       "  </thead>\n",
       "  <tbody>\n",
       "    <tr>\n",
       "      <th>0</th>\n",
       "      <td>369000</td>\n",
       "      <td>Yishun</td>\n",
       "      <td>10</td>\n",
       "      <td>Woodlands</td>\n",
       "    </tr>\n",
       "    <tr>\n",
       "      <th>1</th>\n",
       "      <td>350000</td>\n",
       "      <td>Woodlands</td>\n",
       "      <td>9</td>\n",
       "      <td>Yishun</td>\n",
       "    </tr>\n",
       "    <tr>\n",
       "      <th>2</th>\n",
       "      <td>565000</td>\n",
       "      <td>Toa Payoh</td>\n",
       "      <td>6</td>\n",
       "      <td>Toa Payoh</td>\n",
       "    </tr>\n",
       "    <tr>\n",
       "      <th>3</th>\n",
       "      <td>430000</td>\n",
       "      <td>Tampines</td>\n",
       "      <td>10</td>\n",
       "      <td>Tampines</td>\n",
       "    </tr>\n",
       "    <tr>\n",
       "      <th>4</th>\n",
       "      <td>465000</td>\n",
       "      <td>Serangoon</td>\n",
       "      <td>4</td>\n",
       "      <td>Serangoon</td>\n",
       "    </tr>\n",
       "  </tbody>\n",
       "</table>\n",
       "</div>"
      ],
      "text/plain": [
       "    price       town  school_num       town\n",
       "0  369000     Yishun          10  Woodlands\n",
       "1  350000  Woodlands           9     Yishun\n",
       "2  565000  Toa Payoh           6  Toa Payoh\n",
       "3  430000   Tampines          10   Tampines\n",
       "4  465000  Serangoon           4  Serangoon"
      ]
     },
     "execution_count": 34,
     "metadata": {},
     "output_type": "execute_result"
    }
   ],
   "source": [
    "pd.concat([price, schools], axis=1)"
   ]
  },
  {
   "cell_type": "code",
   "execution_count": 35,
   "metadata": {},
   "outputs": [
    {
     "data": {
      "text/html": [
       "<div>\n",
       "<style>\n",
       "    .dataframe thead tr:only-child th {\n",
       "        text-align: right;\n",
       "    }\n",
       "\n",
       "    .dataframe thead th {\n",
       "        text-align: left;\n",
       "    }\n",
       "\n",
       "    .dataframe tbody tr th {\n",
       "        vertical-align: top;\n",
       "    }\n",
       "</style>\n",
       "<table border=\"1\" class=\"dataframe\">\n",
       "  <thead>\n",
       "    <tr style=\"text-align: right;\">\n",
       "      <th></th>\n",
       "      <th>price</th>\n",
       "      <th>town</th>\n",
       "    </tr>\n",
       "  </thead>\n",
       "  <tbody>\n",
       "    <tr>\n",
       "      <th>0</th>\n",
       "      <td>369000</td>\n",
       "      <td>Yishun</td>\n",
       "    </tr>\n",
       "    <tr>\n",
       "      <th>1</th>\n",
       "      <td>350000</td>\n",
       "      <td>Woodlands</td>\n",
       "    </tr>\n",
       "    <tr>\n",
       "      <th>2</th>\n",
       "      <td>565000</td>\n",
       "      <td>Toa Payoh</td>\n",
       "    </tr>\n",
       "    <tr>\n",
       "      <th>3</th>\n",
       "      <td>430000</td>\n",
       "      <td>Tampines</td>\n",
       "    </tr>\n",
       "    <tr>\n",
       "      <th>4</th>\n",
       "      <td>465000</td>\n",
       "      <td>Serangoon</td>\n",
       "    </tr>\n",
       "    <tr>\n",
       "      <th>0</th>\n",
       "      <td>408000</td>\n",
       "      <td>Sengkang</td>\n",
       "    </tr>\n",
       "    <tr>\n",
       "      <th>1</th>\n",
       "      <td>361500</td>\n",
       "      <td>Sembawang</td>\n",
       "    </tr>\n",
       "  </tbody>\n",
       "</table>\n",
       "</div>"
      ],
      "text/plain": [
       "    price       town\n",
       "0  369000     Yishun\n",
       "1  350000  Woodlands\n",
       "2  565000  Toa Payoh\n",
       "3  430000   Tampines\n",
       "4  465000  Serangoon\n",
       "0  408000   Sengkang\n",
       "1  361500  Sembawang"
      ]
     },
     "execution_count": 35,
     "metadata": {},
     "output_type": "execute_result"
    }
   ],
   "source": [
    "# row-wise by default \n",
    "\n",
    "price_2 = pd.DataFrame({'town': ['Sengkang','Sembawang'],\n",
    "                        'price' : [408000,361500]})\n",
    "pd.concat([price, price_2])"
   ]
  },
  {
   "cell_type": "markdown",
   "metadata": {},
   "source": [
    "# Aggregation\n",
    "\n",
    "After loading our dataset, cleaning up our NaN values, merging our datasets and wrangling with data types, a common next step is to look at group statistics such as the mean or median to get a better feel for our data. In general terms, we can say we want to split our dataset into interesting groups, and apply a function to each group. For this, pandas groupby facility is particularly useful, and allows us to summarise our datasets flexibly and naturally. \n",
    "\n",
    "Indeed, one of the reasons why SQL and relational databases are so popular is that they easily join, filter and transform datasets. However, the group operations they can perform are limited. Pandas is more expressive than SQL, and thus allows more complex grouped operations. As long as a function can accept a pandas object or NumPy array, we'll be fine. \n",
    "\n",
    "Here, we'll look at: \n",
    "\n",
    "- Performing aggregation using the Split-Apply-Combine paradigm \n",
    "- Pivot Tables \n",
    "references: Python4DataAnalysis by Wes McKinney and PythonDataScienceHandbook by Jake Van der Plas"
   ]
  },
  {
   "cell_type": "markdown",
   "metadata": {},
   "source": [
    "## Split-Apply-Combine "
   ]
  },
  {
   "cell_type": "markdown",
   "metadata": {},
   "source": [
    "When dealing with groups (aggregations), we follow a process. Namely, we *split* the data, be it a column or a row, accodring to a certain *key*. Then, we *apply* a function such as a sum calculation to each group. Finally, we *combine* the results of the function into a new object. \n",
    "\n",
    "To make things concrete, let's look at an example, using the HDB resale dataset from before\n",
    "![alt text](splitapplycombine.png)"
   ]
  },
  {
   "cell_type": "code",
   "execution_count": 36,
   "metadata": {},
   "outputs": [
    {
     "data": {
      "text/html": [
       "<div>\n",
       "<style>\n",
       "    .dataframe thead tr:only-child th {\n",
       "        text-align: right;\n",
       "    }\n",
       "\n",
       "    .dataframe thead th {\n",
       "        text-align: left;\n",
       "    }\n",
       "\n",
       "    .dataframe tbody tr th {\n",
       "        vertical-align: top;\n",
       "    }\n",
       "</style>\n",
       "<table border=\"1\" class=\"dataframe\">\n",
       "  <thead>\n",
       "    <tr style=\"text-align: right;\">\n",
       "      <th></th>\n",
       "      <th>town</th>\n",
       "      <th>flat_type</th>\n",
       "      <th>price</th>\n",
       "      <th>Year</th>\n",
       "      <th>Quarter</th>\n",
       "    </tr>\n",
       "  </thead>\n",
       "  <tbody>\n",
       "    <tr>\n",
       "      <th>0</th>\n",
       "      <td>Ang Mo Kio</td>\n",
       "      <td>1-room</td>\n",
       "      <td>NaN</td>\n",
       "      <td>2007</td>\n",
       "      <td>Q2</td>\n",
       "    </tr>\n",
       "    <tr>\n",
       "      <th>1</th>\n",
       "      <td>Ang Mo Kio</td>\n",
       "      <td>2-room</td>\n",
       "      <td>NaN</td>\n",
       "      <td>2007</td>\n",
       "      <td>Q2</td>\n",
       "    </tr>\n",
       "    <tr>\n",
       "      <th>2</th>\n",
       "      <td>Ang Mo Kio</td>\n",
       "      <td>3-room</td>\n",
       "      <td>172000.0</td>\n",
       "      <td>2007</td>\n",
       "      <td>Q2</td>\n",
       "    </tr>\n",
       "    <tr>\n",
       "      <th>3</th>\n",
       "      <td>Ang Mo Kio</td>\n",
       "      <td>4-room</td>\n",
       "      <td>260000.0</td>\n",
       "      <td>2007</td>\n",
       "      <td>Q2</td>\n",
       "    </tr>\n",
       "    <tr>\n",
       "      <th>4</th>\n",
       "      <td>Ang Mo Kio</td>\n",
       "      <td>5-room</td>\n",
       "      <td>372000.0</td>\n",
       "      <td>2007</td>\n",
       "      <td>Q2</td>\n",
       "    </tr>\n",
       "  </tbody>\n",
       "</table>\n",
       "</div>"
      ],
      "text/plain": [
       "         town flat_type     price  Year Quarter\n",
       "0  Ang Mo Kio    1-room       NaN  2007      Q2\n",
       "1  Ang Mo Kio    2-room       NaN  2007      Q2\n",
       "2  Ang Mo Kio    3-room  172000.0  2007      Q2\n",
       "3  Ang Mo Kio    4-room  260000.0  2007      Q2\n",
       "4  Ang Mo Kio    5-room  372000.0  2007      Q2"
      ]
     },
     "execution_count": 36,
     "metadata": {},
     "output_type": "execute_result"
    }
   ],
   "source": [
    "resale.head()"
   ]
  },
  {
   "cell_type": "code",
   "execution_count": 37,
   "metadata": {},
   "outputs": [
    {
     "data": {
      "text/plain": [
       "<pandas.core.groupby.SeriesGroupBy object at 0x000001E44888D4E0>"
      ]
     },
     "execution_count": 37,
     "metadata": {},
     "output_type": "execute_result"
    }
   ],
   "source": [
    "# create groupby object that is ready for apply operation that follows.\n",
    "grouped = resale['price'].groupby(resale['Year'])\n",
    "grouped"
   ]
  },
  {
   "cell_type": "code",
   "execution_count": 38,
   "metadata": {},
   "outputs": [
    {
     "data": {
      "text/plain": [
       "Year\n",
       "2007    299387.659574\n",
       "2008    345821.355932\n",
       "2009    369963.897764\n",
       "2010    419546.325879\n",
       "2011    454066.129032\n",
       "2012    485058.303887\n",
       "2013    491575.918367\n",
       "2014    456080.851064\n",
       "2015    452604.705882\n",
       "2016    460511.235955\n",
       "Name: price, dtype: float64"
      ]
     },
     "execution_count": 38,
     "metadata": {},
     "output_type": "execute_result"
    }
   ],
   "source": [
    "# apply mean operation \n",
    "grouped.mean()"
   ]
  },
  {
   "cell_type": "code",
   "execution_count": 39,
   "metadata": {},
   "outputs": [
    {
     "data": {
      "text/plain": [
       "town\n",
       "Ang Mo Kio         421810.000000\n",
       "Bedok              406429.921260\n",
       "Bishan             513168.604651\n",
       "Bukit Batok        398204.878049\n",
       "Bukit Merah        530652.991453\n",
       "Bukit Panjang      387819.685039\n",
       "Bukit Timah                  NaN\n",
       "Central            461485.714286\n",
       "Choa Chu Kang      409066.666667\n",
       "Clementi           400386.904762\n",
       "Geylang            374831.111111\n",
       "Hougang            419569.078947\n",
       "Jurong East        383211.304348\n",
       "Jurong West        393205.128205\n",
       "Kallang/Whampoa    445631.603774\n",
       "Marine Parade      367378.260870\n",
       "Pasir Ris          465555.932203\n",
       "Punggol            438340.740741\n",
       "Queenstown         482574.157303\n",
       "Sembawang          413936.538462\n",
       "Sengkang           457212.280702\n",
       "Serangoon          387787.500000\n",
       "Tampines           447267.741935\n",
       "Toa Payoh          453585.454545\n",
       "Woodlands          381926.451613\n",
       "Yishun             359425.190840\n",
       "Name: price, dtype: float64"
      ]
     },
     "execution_count": 39,
     "metadata": {},
     "output_type": "execute_result"
    }
   ],
   "source": [
    "# another example \n",
    "grouped = resale['price'].groupby(resale['town'])\n",
    "grouped.mean()"
   ]
  },
  {
   "cell_type": "code",
   "execution_count": 40,
   "metadata": {},
   "outputs": [
    {
     "data": {
      "text/plain": [
       "Year  town           \n",
       "2007  Ang Mo Kio         291977.777778\n",
       "      Bedok              295454.545455\n",
       "      Bishan             372737.500000\n",
       "      Bukit Batok        305275.000000\n",
       "      Bukit Merah        379166.666667\n",
       "      Bukit Panjang      256254.545455\n",
       "      Bukit Timah                  NaN\n",
       "      Central            321000.000000\n",
       "      Choa Chu Kang      289860.000000\n",
       "      Clementi           289385.714286\n",
       "      Geylang            263362.500000\n",
       "      Hougang            286958.333333\n",
       "      Jurong East        271380.000000\n",
       "      Jurong West        256000.000000\n",
       "      Kallang/Whampoa    315166.666667\n",
       "      Marine Parade      291250.000000\n",
       "      Pasir Ris          329033.333333\n",
       "      Punggol            301583.333333\n",
       "      Queenstown         391166.666667\n",
       "      Sembawang          290737.500000\n",
       "      Sengkang           315866.666667\n",
       "      Serangoon          282272.727273\n",
       "      Tampines           311375.000000\n",
       "      Toa Payoh          331090.909091\n",
       "      Woodlands          261583.333333\n",
       "      Yishun             241118.181818\n",
       "2008  Ang Mo Kio         340216.666667\n",
       "      Bedok              325230.769231\n",
       "      Bishan             433918.181818\n",
       "      Bukit Batok        349921.428571\n",
       "                             ...      \n",
       "2015  Tampines           485593.750000\n",
       "      Toa Payoh          472850.000000\n",
       "      Woodlands          398893.333333\n",
       "      Yishun             369491.666667\n",
       "2016  Ang Mo Kio         485000.000000\n",
       "      Bedok              442338.461538\n",
       "      Bishan             660312.500000\n",
       "      Bukit Batok        367388.888889\n",
       "      Bukit Merah        576166.666667\n",
       "      Bukit Panjang      367175.000000\n",
       "      Bukit Timah                  NaN\n",
       "      Central            622800.000000\n",
       "      Choa Chu Kang      442633.333333\n",
       "      Clementi           426737.500000\n",
       "      Geylang            383750.000000\n",
       "      Hougang            442746.666667\n",
       "      Jurong East        420709.090909\n",
       "      Jurong West        423212.500000\n",
       "      Kallang/Whampoa    533681.818182\n",
       "      Marine Parade                NaN\n",
       "      Pasir Ris          490200.000000\n",
       "      Punggol            446737.500000\n",
       "      Queenstown         561255.555556\n",
       "      Sembawang          422458.333333\n",
       "      Sengkang           473783.333333\n",
       "      Serangoon          457300.000000\n",
       "      Tampines           489150.000000\n",
       "      Toa Payoh          492150.000000\n",
       "      Woodlands          409156.250000\n",
       "      Yishun             370108.333333\n",
       "Name: price, Length: 260, dtype: float64"
      ]
     },
     "execution_count": 40,
     "metadata": {},
     "output_type": "execute_result"
    }
   ],
   "source": [
    "# combine keys \n",
    "grouped = resale['price'].groupby([resale['Year'], resale['town']])\n",
    "grouped.mean()"
   ]
  },
  {
   "cell_type": "code",
   "execution_count": 41,
   "metadata": {},
   "outputs": [
    {
     "data": {
      "text/html": [
       "<div>\n",
       "<style>\n",
       "    .dataframe thead tr:only-child th {\n",
       "        text-align: right;\n",
       "    }\n",
       "\n",
       "    .dataframe thead th {\n",
       "        text-align: left;\n",
       "    }\n",
       "\n",
       "    .dataframe tbody tr th {\n",
       "        vertical-align: top;\n",
       "    }\n",
       "</style>\n",
       "<table border=\"1\" class=\"dataframe\">\n",
       "  <thead>\n",
       "    <tr style=\"text-align: right;\">\n",
       "      <th></th>\n",
       "      <th>price</th>\n",
       "    </tr>\n",
       "    <tr>\n",
       "      <th>town</th>\n",
       "      <th></th>\n",
       "    </tr>\n",
       "  </thead>\n",
       "  <tbody>\n",
       "    <tr>\n",
       "      <th>Ang Mo Kio</th>\n",
       "      <td>421810.000000</td>\n",
       "    </tr>\n",
       "    <tr>\n",
       "      <th>Bedok</th>\n",
       "      <td>406429.921260</td>\n",
       "    </tr>\n",
       "    <tr>\n",
       "      <th>Bishan</th>\n",
       "      <td>513168.604651</td>\n",
       "    </tr>\n",
       "    <tr>\n",
       "      <th>Bukit Batok</th>\n",
       "      <td>398204.878049</td>\n",
       "    </tr>\n",
       "    <tr>\n",
       "      <th>Bukit Merah</th>\n",
       "      <td>530652.991453</td>\n",
       "    </tr>\n",
       "  </tbody>\n",
       "</table>\n",
       "</div>"
      ],
      "text/plain": [
       "                     price\n",
       "town                      \n",
       "Ang Mo Kio   421810.000000\n",
       "Bedok        406429.921260\n",
       "Bishan       513168.604651\n",
       "Bukit Batok  398204.878049\n",
       "Bukit Merah  530652.991453"
      ]
     },
     "execution_count": 41,
     "metadata": {},
     "output_type": "execute_result"
    }
   ],
   "source": [
    "# code above allows grouping with a series not in the data frame\n",
    "# if grouping information is in the same data frame, we have a shorter way:\n",
    "# non-numerical column automatically dropped. \n",
    "grouped = resale.groupby('town').mean()\n",
    "grouped.head()"
   ]
  },
  {
   "cell_type": "code",
   "execution_count": 42,
   "metadata": {},
   "outputs": [
    {
     "data": {
      "text/html": [
       "<div>\n",
       "<style>\n",
       "    .dataframe thead tr:only-child th {\n",
       "        text-align: right;\n",
       "    }\n",
       "\n",
       "    .dataframe thead th {\n",
       "        text-align: left;\n",
       "    }\n",
       "\n",
       "    .dataframe tbody tr th {\n",
       "        vertical-align: top;\n",
       "    }\n",
       "</style>\n",
       "<table border=\"1\" class=\"dataframe\">\n",
       "  <thead>\n",
       "    <tr style=\"text-align: right;\">\n",
       "      <th></th>\n",
       "      <th>Bedok</th>\n",
       "      <th>Changi</th>\n",
       "      <th>Queenstown</th>\n",
       "      <th>Toa Payoh</th>\n",
       "    </tr>\n",
       "  </thead>\n",
       "  <tbody>\n",
       "    <tr>\n",
       "      <th>Tan</th>\n",
       "      <td>2</td>\n",
       "      <td>2</td>\n",
       "      <td>1</td>\n",
       "      <td>3</td>\n",
       "    </tr>\n",
       "    <tr>\n",
       "      <th>Dennis</th>\n",
       "      <td>3</td>\n",
       "      <td>0</td>\n",
       "      <td>0</td>\n",
       "      <td>0</td>\n",
       "    </tr>\n",
       "    <tr>\n",
       "      <th>Jane</th>\n",
       "      <td>3</td>\n",
       "      <td>2</td>\n",
       "      <td>2</td>\n",
       "      <td>1</td>\n",
       "    </tr>\n",
       "    <tr>\n",
       "      <th>Wong</th>\n",
       "      <td>3</td>\n",
       "      <td>3</td>\n",
       "      <td>0</td>\n",
       "      <td>1</td>\n",
       "    </tr>\n",
       "  </tbody>\n",
       "</table>\n",
       "</div>"
      ],
      "text/plain": [
       "        Bedok  Changi  Queenstown  Toa Payoh\n",
       "Tan         2       2           1          3\n",
       "Dennis      3       0           0          0\n",
       "Jane        3       2           2          1\n",
       "Wong        3       3           0          1"
      ]
     },
     "execution_count": 42,
     "metadata": {},
     "output_type": "execute_result"
    }
   ],
   "source": [
    "# group with a mapping \n",
    "# DataFrame of property guru ratings \n",
    "import numpy as np\n",
    "rating = pd.DataFrame(np.random.randint(0,5, size=(4,4)),\n",
    "                  columns=['Bedok','Changi','Queenstown','Toa Payoh'],\n",
    "                  index=['Tan','Dennis','Jane','Wong'])\n",
    "rating"
   ]
  },
  {
   "cell_type": "code",
   "execution_count": 43,
   "metadata": {},
   "outputs": [
    {
     "data": {
      "text/html": [
       "<div>\n",
       "<style>\n",
       "    .dataframe thead tr:only-child th {\n",
       "        text-align: right;\n",
       "    }\n",
       "\n",
       "    .dataframe thead th {\n",
       "        text-align: left;\n",
       "    }\n",
       "\n",
       "    .dataframe tbody tr th {\n",
       "        vertical-align: top;\n",
       "    }\n",
       "</style>\n",
       "<table border=\"1\" class=\"dataframe\">\n",
       "  <thead>\n",
       "    <tr style=\"text-align: right;\">\n",
       "      <th></th>\n",
       "      <th>Central</th>\n",
       "      <th>South East</th>\n",
       "    </tr>\n",
       "  </thead>\n",
       "  <tbody>\n",
       "    <tr>\n",
       "      <th>Tan</th>\n",
       "      <td>2.0</td>\n",
       "      <td>2.0</td>\n",
       "    </tr>\n",
       "    <tr>\n",
       "      <th>Dennis</th>\n",
       "      <td>0.0</td>\n",
       "      <td>1.5</td>\n",
       "    </tr>\n",
       "    <tr>\n",
       "      <th>Jane</th>\n",
       "      <td>1.5</td>\n",
       "      <td>2.5</td>\n",
       "    </tr>\n",
       "    <tr>\n",
       "      <th>Wong</th>\n",
       "      <td>0.5</td>\n",
       "      <td>3.0</td>\n",
       "    </tr>\n",
       "  </tbody>\n",
       "</table>\n",
       "</div>"
      ],
      "text/plain": [
       "        Central  South East\n",
       "Tan         2.0         2.0\n",
       "Dennis      0.0         1.5\n",
       "Jane        1.5         2.5\n",
       "Wong        0.5         3.0"
      ]
     },
     "execution_count": 43,
     "metadata": {},
     "output_type": "execute_result"
    }
   ],
   "source": [
    "map = {\n",
    "    'Bedok' : 'South East',\n",
    "    'Changi' : 'South East',\n",
    "    'Queenstown' : 'Central',\n",
    "    'Toa Payoh' : 'Central'\n",
    "}\n",
    "\n",
    "by_column = rating.groupby(map, axis=1)\n",
    "by_column.mean()"
   ]
  },
  {
   "cell_type": "code",
   "execution_count": 44,
   "metadata": {},
   "outputs": [
    {
     "data": {
      "text/html": [
       "<div>\n",
       "<style>\n",
       "    .dataframe thead tr:only-child th {\n",
       "        text-align: right;\n",
       "    }\n",
       "\n",
       "    .dataframe thead th {\n",
       "        text-align: left;\n",
       "    }\n",
       "\n",
       "    .dataframe tbody tr th {\n",
       "        vertical-align: top;\n",
       "    }\n",
       "</style>\n",
       "<table border=\"1\" class=\"dataframe\">\n",
       "  <thead>\n",
       "    <tr style=\"text-align: right;\">\n",
       "      <th></th>\n",
       "      <th>Bedok</th>\n",
       "      <th>Changi</th>\n",
       "      <th>Queenstown</th>\n",
       "      <th>Toa Payoh</th>\n",
       "    </tr>\n",
       "  </thead>\n",
       "  <tbody>\n",
       "    <tr>\n",
       "      <th>3</th>\n",
       "      <td>2</td>\n",
       "      <td>2</td>\n",
       "      <td>1</td>\n",
       "      <td>3</td>\n",
       "    </tr>\n",
       "    <tr>\n",
       "      <th>4</th>\n",
       "      <td>3</td>\n",
       "      <td>2</td>\n",
       "      <td>0</td>\n",
       "      <td>1</td>\n",
       "    </tr>\n",
       "    <tr>\n",
       "      <th>6</th>\n",
       "      <td>3</td>\n",
       "      <td>0</td>\n",
       "      <td>0</td>\n",
       "      <td>0</td>\n",
       "    </tr>\n",
       "  </tbody>\n",
       "</table>\n",
       "</div>"
      ],
      "text/plain": [
       "   Bedok  Changi  Queenstown  Toa Payoh\n",
       "3      2       2           1          3\n",
       "4      3       2           0          1\n",
       "6      3       0           0          0"
      ]
     },
     "execution_count": 44,
     "metadata": {},
     "output_type": "execute_result"
    }
   ],
   "source": [
    "# group with a function \n",
    "rating.groupby(len).min()"
   ]
  },
  {
   "cell_type": "code",
   "execution_count": 45,
   "metadata": {},
   "outputs": [
    {
     "data": {
      "text/html": [
       "<div>\n",
       "<style>\n",
       "    .dataframe thead tr:only-child th {\n",
       "        text-align: right;\n",
       "    }\n",
       "\n",
       "    .dataframe thead th {\n",
       "        text-align: left;\n",
       "    }\n",
       "\n",
       "    .dataframe tbody tr th {\n",
       "        vertical-align: top;\n",
       "    }\n",
       "</style>\n",
       "<table border=\"1\" class=\"dataframe\">\n",
       "  <thead>\n",
       "    <tr style=\"text-align: right;\">\n",
       "      <th></th>\n",
       "      <th></th>\n",
       "      <th>Bedok</th>\n",
       "      <th>Changi</th>\n",
       "      <th>Queenstown</th>\n",
       "      <th>Toa Payoh</th>\n",
       "    </tr>\n",
       "  </thead>\n",
       "  <tbody>\n",
       "    <tr>\n",
       "      <th>3</th>\n",
       "      <th>one</th>\n",
       "      <td>2</td>\n",
       "      <td>2</td>\n",
       "      <td>1</td>\n",
       "      <td>3</td>\n",
       "    </tr>\n",
       "    <tr>\n",
       "      <th>4</th>\n",
       "      <th>two</th>\n",
       "      <td>3</td>\n",
       "      <td>2</td>\n",
       "      <td>0</td>\n",
       "      <td>1</td>\n",
       "    </tr>\n",
       "    <tr>\n",
       "      <th>6</th>\n",
       "      <th>one</th>\n",
       "      <td>3</td>\n",
       "      <td>0</td>\n",
       "      <td>0</td>\n",
       "      <td>0</td>\n",
       "    </tr>\n",
       "  </tbody>\n",
       "</table>\n",
       "</div>"
      ],
      "text/plain": [
       "       Bedok  Changi  Queenstown  Toa Payoh\n",
       "3 one      2       2           1          3\n",
       "4 two      3       2           0          1\n",
       "6 one      3       0           0          0"
      ]
     },
     "execution_count": 45,
     "metadata": {},
     "output_type": "execute_result"
    }
   ],
   "source": [
    "# mixing functions with arrays, dicts or Series is fine - flexibility! \n",
    "key_list = ['one','one','two','two']\n",
    "rating.groupby([len,key_list]).min()"
   ]
  },
  {
   "cell_type": "code",
   "execution_count": null,
   "metadata": {
    "collapsed": true
   },
   "outputs": [],
   "source": []
  }
 ],
 "metadata": {
  "kernelspec": {
   "display_name": "Python 3",
   "language": "python",
   "name": "python3"
  },
  "language_info": {
   "codemirror_mode": {
    "name": "ipython",
    "version": 3
   },
   "file_extension": ".py",
   "mimetype": "text/x-python",
   "name": "python",
   "nbconvert_exporter": "python",
   "pygments_lexer": "ipython3",
   "version": "3.6.2"
  }
 },
 "nbformat": 4,
 "nbformat_minor": 2
}
